{
 "cells": [
  {
   "cell_type": "markdown",
   "metadata": {},
   "source": [
    "# Message Box"
   ]
  },
  {
   "cell_type": "code",
   "execution_count": 1,
   "metadata": {},
   "outputs": [
    {
     "name": "stdout",
     "output_type": "stream",
     "text": [
      "__main__\n"
     ]
    },
    {
     "ename": "SystemExit",
     "evalue": "0",
     "output_type": "error",
     "traceback": [
      "An exception has occurred, use %tb to see the full traceback.\n",
      "\u001b[1;31mSystemExit\u001b[0m\u001b[1;31m:\u001b[0m 0\n"
     ]
    },
    {
     "name": "stderr",
     "output_type": "stream",
     "text": [
      "C:\\Users\\MAN\\anaconda3\\lib\\site-packages\\IPython\\core\\interactiveshell.py:3426: UserWarning: To exit: use 'exit', 'quit', or Ctrl-D.\n",
      "  warn(\"To exit: use 'exit', 'quit', or Ctrl-D.\", stacklevel=1)\n"
     ]
    }
   ],
   "source": [
    "###--------------\n",
    "##QMessageBox.Cancel\t\n",
    "##QMessageBox.Open\t\n",
    "##QMessageBox.Discard\t\n",
    "##QMessageBox.Reset\t\n",
    "##QMessageBox.No\t\n",
    "##QMessageBox.NoToAll\t\n",
    "##QMessageBox.NoButton\n",
    "##QMessageBox.RestoreDefaults\t\n",
    "##QMessageBox.Abort\t\n",
    "##QMessageBox.Retry\n",
    "##QMessageBox.Ignore\n",
    "##QMessageBox.Ok\t\n",
    "##QMessageBox.Help\n",
    "##QMessageBox.Save\n",
    "##QMessageBox.SaveAll \n",
    "##QMessageBox.Close\n",
    "##QMessageBox.Apply \n",
    "##QMessageBox.Yes\n",
    "##QMessageBox.YesToAll \n",
    "######====================\n",
    "\n",
    "##QMessageBox\n",
    "import sys\n",
    "from PyQt5.QtWidgets import QApplication, QWidget, QPushButton, QMessageBox\n",
    "class F(QWidget):\n",
    "    def __init__(self):\n",
    "        super().__init__()\n",
    "        self.setUI()\n",
    "\n",
    "    def setUI(self):\n",
    "        self.setGeometry(200,200,300,300)\n",
    "        self.setWindowTitle(\"Faradars\")\n",
    "        btn = QPushButton(\"close\",self)\n",
    "        btn.move(100,100)\n",
    "        btn.clicked.connect(self.exit) \n",
    "        self.show() \n",
    "\n",
    "    def exit(self):\n",
    "        qms = QMessageBox.question(self,\"Message\",\"do you want close it?\",QMessageBox.Yes | QMessageBox.No | QMessageBox.Help)\n",
    "        if qms == QMessageBox.Yes:\n",
    "            self.close()\n",
    "        elif  qms == QMessageBox.No:\n",
    "            pass\n",
    "        elif  qms == QMessageBox.Help :\n",
    "            print(\"python.org\") \n",
    "   \n",
    "\n",
    " \n",
    "if  __name__==\"__main__\":\n",
    "    print(__name__)\n",
    "    app = QApplication(sys.argv)\n",
    "    ex=F()\n",
    "    sys.exit(app.exec_())\n"
   ]
  }
 ],
 "metadata": {
  "kernelspec": {
   "display_name": "Python 3",
   "language": "python",
   "name": "python3"
  },
  "language_info": {
   "name": ""
  }
 },
 "nbformat": 4,
 "nbformat_minor": 4
}
