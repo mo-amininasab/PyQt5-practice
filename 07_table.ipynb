{
 "cells": [
  {
   "cell_type": "markdown",
   "metadata": {},
   "source": [
    "# Table"
   ]
  },
  {
   "cell_type": "code",
   "execution_count": null,
   "metadata": {},
   "outputs": [],
   "source": [
    "\n",
    "##========================\n",
    "##|    | pr1    | pr2    |    \n",
    "##========================\n",
    "##| p1 |  ...   | ....   |    \n",
    "##========================\n",
    "##| p2 |  ...   | ....   |    \n",
    "##========================\n",
    "##| p3 |  ...   | ....   |    \n",
    "##========================\n",
    "\n",
    "import sys\n",
    "from PyQt5.QtWidgets import QApplication,QWidget,QTableWidget,QTableWidgetItem,QVBoxLayout\n",
    "\n",
    "\n",
    "class F(QWidget):\n",
    "    def __init__(self):\n",
    "        super().__init__()\n",
    "        self.setUI()\n",
    "\n",
    "    def setUI(self):\n",
    "        self.setGeometry(200,200,300,300)\n",
    "        self.setWindowTitle(\"Faradars\") \n",
    "        self.table()  \n",
    "    \n",
    "    \n",
    "        self.lay = QVBoxLayout()\n",
    "        self.lay.addWidget(self.tw)\n",
    "        self.setLayout(self.lay)\n",
    "        self.show()\n",
    "  \n",
    "  \n",
    "    def table(self):\n",
    "        self.tw = QTableWidget()\n",
    "        self.tw.setRowCount(4)\n",
    "        self.tw.setColumnCount(3)\n",
    "        self.tw.setItem(0,1,QTableWidgetItem(\"pr1\"))\n",
    "        self.tw.setItem(0,2,QTableWidgetItem(\"pr2\"))\n",
    "        self.tw.setItem(1,0,QTableWidgetItem(\"p1\"))\n",
    "        self.tw.setItem(2,0,QTableWidgetItem(\"p2\"))\n",
    "        self.tw.setItem(3,0,QTableWidgetItem(\"p3\"))\n",
    "    \n",
    "        self.tw.clicked.connect(self.print_twcell)\n",
    "  \n",
    "    def print_twcell(self):\n",
    "        for  cell   in   self.tw.selectedItems(): \n",
    "            print(cell.text())\n",
    "  \n",
    " \n",
    "if  __name__==\"__main__\":\n",
    "    print(__name__)\n",
    "    app = QApplication(sys.argv)\n",
    "    ex=F()\n",
    "    sys.exit(app.exec_())\n"
   ]
  }
 ],
 "metadata": {
  "kernelspec": {
   "display_name": "Python 3",
   "language": "python",
   "name": "python3"
  },
  "language_info": {
   "codemirror_mode": {
    "name": "ipython",
    "version": 3
   },
   "file_extension": ".py",
   "mimetype": "text/x-python",
   "name": "python",
   "nbconvert_exporter": "python",
   "pygments_lexer": "ipython3",
   "version": "3.8.5"
  }
 },
 "nbformat": 4,
 "nbformat_minor": 4
}
