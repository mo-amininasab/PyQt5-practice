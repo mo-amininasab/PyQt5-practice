{
 "cells": [
  {
   "cell_type": "markdown",
   "metadata": {},
   "source": [
    "# Push Button"
   ]
  },
  {
   "cell_type": "code",
   "execution_count": 1,
   "metadata": {},
   "outputs": [
    {
     "name": "stdout",
     "output_type": "stream",
     "text": [
      "__main__\n"
     ]
    },
    {
     "ename": "SystemExit",
     "evalue": "0",
     "output_type": "error",
     "traceback": [
      "An exception has occurred, use %tb to see the full traceback.\n",
      "\u001b[1;31mSystemExit\u001b[0m\u001b[1;31m:\u001b[0m 0\n"
     ]
    },
    {
     "name": "stderr",
     "output_type": "stream",
     "text": [
      "C:\\Users\\MAN\\AppData\\Local\\Programs\\Python\\Python39\\lib\\site-packages\\IPython\\core\\interactiveshell.py:3452: UserWarning: To exit: use 'exit', 'quit', or Ctrl-D.\n",
      "  warn(\"To exit: use 'exit', 'quit', or Ctrl-D.\", stacklevel=1)\n"
     ]
    }
   ],
   "source": [
    "import sys\n",
    "from PyQt5.QtWidgets import QApplication, QWidget,QPushButton\n",
    "\n",
    "class F(QWidget):\n",
    "    def __init__(self):\n",
    "        super().__init__()\n",
    "        self.setUI()   \n",
    "\n",
    "    def setUI(self):\n",
    "        self.setGeometry(200,200,300,300)\n",
    "        self.setWindowTitle(\"Faradars\")\n",
    "\n",
    "        btn = QPushButton(\"close\",self)\n",
    "        btn.move(100,100)\n",
    "        \n",
    "        #btn.clicked.connect(self.click)\n",
    "        btn.clicked.connect(self.exit)\n",
    "        self.show() \n",
    "    \n",
    "    def click(self):\n",
    "        print(\"python is simple\")\n",
    "    \n",
    "    def print2(self):\n",
    "        print(\"pyqt is  simple\")\n",
    "    \n",
    "    \n",
    "    def exit(self):\n",
    "        self.close()\n",
    "   \n",
    " \n",
    "if  __name__==\"__main__\":\n",
    "    print(__name__)\n",
    "    app = QApplication(sys.argv)\n",
    "    ex=F()\n",
    "    sys.exit(app.exec_())"
   ]
  },
  {
   "cell_type": "code",
   "execution_count": null,
   "metadata": {},
   "outputs": [],
   "source": []
  }
 ],
 "metadata": {
  "interpreter": {
   "hash": "683d997fa473c3148c6db171926480a308b99ba4d4ac8112e158d9f0d113b61e"
  },
  "kernelspec": {
   "display_name": "Python 3.9.6 64-bit",
   "name": "python3"
  },
  "language_info": {
   "codemirror_mode": {
    "name": "ipython",
    "version": 3
   },
   "file_extension": ".py",
   "mimetype": "text/x-python",
   "name": "python",
   "nbconvert_exporter": "python",
   "pygments_lexer": "ipython3",
   "version": "3.9.6"
  }
 },
 "nbformat": 4,
 "nbformat_minor": 4
}
