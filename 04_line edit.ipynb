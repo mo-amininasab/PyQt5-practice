{
 "cells": [
  {
   "cell_type": "markdown",
   "metadata": {},
   "source": [
    "# Line Edit"
   ]
  },
  {
   "cell_type": "code",
   "execution_count": 1,
   "metadata": {},
   "outputs": [
    {
     "name": "stdout",
     "output_type": "stream",
     "text": [
      "__main__\n"
     ]
    },
    {
     "ename": "SystemExit",
     "evalue": "0",
     "output_type": "error",
     "traceback": [
      "An exception has occurred, use %tb to see the full traceback.\n",
      "\u001b[1;31mSystemExit\u001b[0m\u001b[1;31m:\u001b[0m 0\n"
     ]
    },
    {
     "name": "stderr",
     "output_type": "stream",
     "text": [
      "C:\\Users\\MAN\\AppData\\Local\\Programs\\Python\\Python39\\lib\\site-packages\\IPython\\core\\interactiveshell.py:3452: UserWarning: To exit: use 'exit', 'quit', or Ctrl-D.\n",
      "  warn(\"To exit: use 'exit', 'quit', or Ctrl-D.\", stacklevel=1)\n"
     ]
    }
   ],
   "source": [
    "import sys\n",
    "from PyQt5.QtWidgets import QApplication, QWidget,QPushButton,QLineEdit\n",
    "\n",
    "class F(QWidget):\n",
    "    def __init__(self):\n",
    "        super().__init__()\n",
    "        self.setUI()\n",
    "\n",
    "    def setUI(self):\n",
    "        self.setGeometry(200,200,300,300)\n",
    "        self.setWindowTitle(\"Faradars\")\n",
    "        btn = QPushButton(\"copy\",self)\n",
    "        btn.move(100,100)\n",
    "        btn.clicked.connect(self.exit) \n",
    "  \n",
    "        self.textbox1=QLineEdit(self) \n",
    "        self.textbox1.move(10,10)\n",
    "        self.textbox1.resize(200,20)\n",
    "  \n",
    "        self.textbox2=QLineEdit(self) \n",
    "        self.textbox2.move(10,35)\n",
    "        self.textbox2.resize(200,20)\n",
    "  \n",
    "        self.show() \n",
    "\n",
    "    def exit(self):\n",
    "        T1=self.textbox1.text()\n",
    "        self.textbox2.setText(T1)\n",
    "\n",
    "if  __name__==\"__main__\":\n",
    "    print(__name__)\n",
    "    app = QApplication(sys.argv)\n",
    "    ex=F()\n",
    "    sys.exit(app.exec_())"
   ]
  }
 ],
 "metadata": {
  "kernelspec": {
   "display_name": "Python 3",
   "language": "python",
   "name": "python3"
  },
  "language_info": {
   "codemirror_mode": {
    "name": "ipython",
    "version": 3
   },
   "file_extension": ".py",
   "mimetype": "text/x-python",
   "name": "python",
   "nbconvert_exporter": "python",
   "pygments_lexer": "ipython3",
   "version": "3.9.6"
  }
 },
 "nbformat": 4,
 "nbformat_minor": 4
}
